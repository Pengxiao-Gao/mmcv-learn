{
 "cells": [
  {
   "cell_type": "markdown",
   "metadata": {},
   "source": [
    "# Intro to mmcv\n",
    "#### *Author* : Pengxiao Gao (pengxiao.gao@momenta.ai)"
   ]
  },
  {
   "cell_type": "code",
   "execution_count": 1,
   "metadata": {},
   "outputs": [
    {
     "name": "stderr",
     "output_type": "stream",
     "text": [
      "/home/pengx/miniconda3/envs/torch/lib/python3.9/site-packages/tqdm/auto.py:22: TqdmWarning: IProgress not found. Please update jupyter and ipywidgets. See https://ipywidgets.readthedocs.io/en/stable/user_install.html\n",
      "  from .autonotebook import tqdm as notebook_tqdm\n"
     ]
    }
   ],
   "source": [
    "import os\n",
    "import os.path as osp\n",
    "import mmcv\n",
    "\n",
    "from mmcv import Config"
   ]
  },
  {
   "cell_type": "markdown",
   "metadata": {},
   "source": [
    "## Config"
   ]
  },
  {
   "cell_type": "code",
   "execution_count": 2,
   "metadata": {},
   "outputs": [
    {
     "name": "stdout",
     "output_type": "stream",
     "text": [
      "[0, 1]\n"
     ]
    }
   ],
   "source": [
    "cfg = Config(dict(a=1, b=dict(b1=[0, 1])))\n",
    "print(cfg.b.b1)"
   ]
  },
  {
   "cell_type": "code",
   "execution_count": 3,
   "metadata": {},
   "outputs": [
    {
     "name": "stdout",
     "output_type": "stream",
     "text": [
      "a = 1\n",
      "b = dict(b1=[0, 1, 2], b2=None)\n",
      "c = (1, 2)\n",
      "d = 'string'\n",
      "\n"
     ]
    }
   ],
   "source": [
    "cfg = Config.fromfile('test/config/config_0.py')\n",
    "print(cfg.pretty_text)"
   ]
  },
  {
   "cell_type": "markdown",
   "metadata": {},
   "source": [
    "For all format configs, some ***predefined variables*** are supported. It will convert the variable in `{{ var }}` with its real value.\n",
    "\n",
    "Currently, it supports four predefined variables:\n",
    "\n",
    "`{{ fileDirname }}` - the current opened file’s dirname, e.g. /home/your-username/your-project/folder\n",
    "\n",
    "`{{ fileBasename }}` - the current opened file’s basename, e.g. file.ext\n",
    "\n",
    "`{{ fileBasenameNoExtension }}` - the current opened file’s basename with no file extension, e.g. file\n",
    "\n",
    "`{{ fileExtname }}` - the current opened file’s extension, e.g. .ext\n",
    "\n",
    "These variable names are referred from VS Code.\n",
    "\n",
    "Here is one examples of config with predefined variables.\n",
    "\n",
    "config_a.py"
   ]
  },
  {
   "cell_type": "code",
   "execution_count": 4,
   "metadata": {},
   "outputs": [
    {
     "name": "stdout",
     "output_type": "stream",
     "text": [
      "a = 1\n",
      "b = 'config_a'\n",
      "c = '.py'\n",
      "\n"
     ]
    }
   ],
   "source": [
    "cfg = Config.fromfile('test/config/config_a.py')\n",
    "print(cfg.pretty_text)"
   ]
  },
  {
   "cell_type": "markdown",
   "metadata": {},
   "source": [
    "### Inherit from base config\n"
   ]
  },
  {
   "cell_type": "code",
   "execution_count": 5,
   "metadata": {},
   "outputs": [
    {
     "name": "stdout",
     "output_type": "stream",
     "text": [
      "a = 1\n",
      "b = '.py'\n",
      "c = 'config_b'\n",
      "d = 'str'\n",
      "\n"
     ]
    }
   ],
   "source": [
    "cfg = Config.fromfile('test/config/config_b.py')\n",
    "print(cfg.pretty_text)"
   ]
  },
  {
   "cell_type": "markdown",
   "metadata": {},
   "source": [
    "### Inherit from multiple base configs (the base configs should not contain the same keys)"
   ]
  },
  {
   "cell_type": "code",
   "execution_count": 6,
   "metadata": {},
   "outputs": [
    {
     "name": "stdout",
     "output_type": "stream",
     "text": [
      "a = 1\n",
      "b = 'config_a'\n",
      "c = '.py'\n",
      "d = 'str'\n",
      "e = (1, 2)\n",
      "\n"
     ]
    }
   ],
   "source": [
    "cfg = Config.fromfile('test/config/config_d.py')\n",
    "print(cfg.pretty_text)"
   ]
  },
  {
   "cell_type": "markdown",
   "metadata": {},
   "source": [
    "### Reference variables from base"
   ]
  },
  {
   "cell_type": "code",
   "execution_count": 7,
   "metadata": {},
   "outputs": [
    {
     "name": "stdout",
     "output_type": "stream",
     "text": [
      "a = 1\n",
      "b = 'config_a'\n",
      "c = '.py'\n",
      "d = 'str'\n",
      "e = (1, 2)\n",
      "item = dict(a=1, b='config_a')\n",
      "\n"
     ]
    }
   ],
   "source": [
    "cfg = Config.fromfile('test/config/config_e.py')\n",
    "print(cfg.pretty_text)"
   ]
  },
  {
   "cell_type": "markdown",
   "metadata": {},
   "source": [
    "## Registry"
   ]
  },
  {
   "cell_type": "markdown",
   "metadata": {},
   "source": [
    "MMCV implements *registry* to manage different modules that share similar functionalities, e.g., backbones, head, and necks, in detectors. Most projects in OpenMMLab use registry to manage modules of datasets and models, such as MMDetection, MMDetection3D, MMClassification, MMEditing, etc."
   ]
  },
  {
   "cell_type": "markdown",
   "metadata": {},
   "source": [
    "To manage your modules in the codebase by *Registry*, there are three steps as below.\n",
    "\n",
    "Create a build method (optional, in most cases you can just use the default one).\n",
    "\n",
    "Create a `registry`.\n",
    "\n",
    "Use this `registry` to manage the modules.\n",
    "\n",
    "Assuming we want to implement a series of Dataset Converter for converting different formats of data to the expected data format. We create a directory as a package named converters. In the package, we first create a file to implement builders\n"
   ]
  },
  {
   "cell_type": "markdown",
   "metadata": {},
   "source": [
    " By using decorator, a mapping between a string and the class (function) is built and maintained by `CONVERTERS` as below"
   ]
  },
  {
   "cell_type": "code",
   "execution_count": 8,
   "metadata": {},
   "outputs": [
    {
     "name": "stdout",
     "output_type": "stream",
     "text": [
      "<class 'converters.converter1.Converter_1'>\n",
      "<function converter_2 at 0x7f06d3ad8b80>\n"
     ]
    }
   ],
   "source": [
    "from converters.builder import CONVERTERS\n",
    "from converters.converter1 import Converter_1\n",
    "from converters.converter2 import converter_2\n",
    "print(Converter_1)\n",
    "print(converter_2)"
   ]
  },
  {
   "cell_type": "markdown",
   "metadata": {},
   "source": [
    "## Hooking\n",
    "In computer programming, the term ***hooking*** covers a range of techniques used to ***alter or augment*** the behaviour of an operating system, of applications, or of other software components by intercepting function calls or messages or events passed between software components. Code that handles such intercepted function calls, events or messages is called a hook.\n",
    "\n",
    "Hooking is used for many purposes, including ***debugging and extending*** functionality. Examples might include ***intercepting*** keyboard or mouse event messages before they reach an application, or intercepting operating system calls in order to ***monitor*** behavior or ***modify*** the function of an application or other component. It is also widely used in benchmarking programs, for example ***fps (frames per seconds) measuring*** in 3D games, where the output and input is done through hooking.\n",
    "\n",
    "Hooking can also be used by ***malicious*** code. For example, ***rootkits***, pieces of software that try to make themselves invisible by faking the output of API calls that would otherwise reveal their existence, often use hooking techniques. ***Game cheating plug-ins*** are another example "
   ]
  },
  {
   "cell_type": "code",
   "execution_count": 9,
   "metadata": {},
   "outputs": [
    {
     "name": "stdout",
     "output_type": "stream",
     "text": [
      "3\n"
     ]
    },
    {
     "data": {
      "text/plain": [
       "6"
      ]
     },
     "execution_count": 9,
     "metadata": {},
     "output_type": "execute_result"
    }
   ],
   "source": [
    "def hook(d):\n",
    "   print(d)\n",
    "\n",
    "def add(a,b,c,hook_fn=None):\n",
    "   sum1=a+b\n",
    "   if hook_fn is not None:\n",
    "       hook_fn(sum1)\n",
    "       return sum1+c\n",
    "\n",
    "# 调用\n",
    "add(1,2,3,hook)"
   ]
  },
  {
   "cell_type": "markdown",
   "metadata": {},
   "source": [
    "### Hook in mmcv\n",
    "In mmcv Hooks can be registered into the Runner."
   ]
  },
  {
   "cell_type": "markdown",
   "metadata": {},
   "source": [
    "## Runner\n",
    "The runner class is designed to manage the training. It eases the training process with less code demanded from users while staying flexible and configurable. \n",
    "The process of using the Runner can be divided into 4 steps.\n",
    "\n",
    "1. **Initialisation** of the Runner object\n",
    "2. **Registering** each type of Hook to the Runner\n",
    "3. Calling the Runner's **resume** or **load_checkpoint** method to load the weights\n",
    "4. Running the given **workflow**, which actually starts the workflow"
   ]
  },
  {
   "cell_type": "markdown",
   "metadata": {},
   "source": [
    "### Initialisation of the Runner\n",
    "BaseRunner for reuse"
   ]
  },
  {
   "cell_type": "markdown",
   "metadata": {},
   "source": [
    "### Register Hook\n",
    "`register_training_hooks()`"
   ]
  },
  {
   "cell_type": "markdown",
   "metadata": {},
   "source": [
    "### Resume and `load_checkpoint`\n",
    "The resume method is used to load weights when training is stopped and then resumed, while load_checkpoint only loads pre-trained weights"
   ]
  },
  {
   "cell_type": "markdown",
   "metadata": {},
   "source": [
    "### Run\n",
    "The run method is actually openning the workflow, and because the Epoch and Iter mode processes are different, they are implemented in their respective subclasses."
   ]
  },
  {
   "cell_type": "markdown",
   "metadata": {},
   "source": [
    "#### EpochBasedRunner\n",
    "EpochBasedRunner is a workflow with epochs, e.g. setting workflow = [('train', 2), ('val', 1)] means iteratively training 2 epochs and then validating 1 epoch. The MMDetection target detection framework uses the EpochBasedRunner by default."
   ]
  },
  {
   "cell_type": "markdown",
   "metadata": {},
   "source": [
    "### IterBasedRunner\n",
    "\n",
    "Since the IterBasedRunner mode does not have the concept of epoch, the run method of the IterBasedRunner has been changed slightly\n",
    "\n",
    "The workflow termination condition is no longer epoch, but iter\n",
    "Hook's lifecycle methods also do not involve epoch, they are all iter-related methods\n",
    "Although the epoch parameter is not needed in this class, it is still needed in many scenarios, so the IterLoader is used to get the epoch parameter."
   ]
  },
  {
   "cell_type": "markdown",
   "metadata": {},
   "source": []
  }
 ],
 "metadata": {
  "kernelspec": {
   "display_name": "Python 3.9.12 ('torch')",
   "language": "python",
   "name": "python3"
  },
  "language_info": {
   "codemirror_mode": {
    "name": "ipython",
    "version": 3
   },
   "file_extension": ".py",
   "mimetype": "text/x-python",
   "name": "python",
   "nbconvert_exporter": "python",
   "pygments_lexer": "ipython3",
   "version": "3.9.12"
  },
  "orig_nbformat": 4,
  "vscode": {
   "interpreter": {
    "hash": "75338cd72d3ac2b51dba2969309cf3dbd31c3856915108bf4bd2bf28c9f48bbe"
   }
  }
 },
 "nbformat": 4,
 "nbformat_minor": 2
}
